{
 "cells": [
  {
   "cell_type": "code",
   "execution_count": null,
   "metadata": {},
   "outputs": [],
   "source": [
    "\"\"\" MySQL Connector \"\"\"\n",
    "\n",
    "\n",
    "import mysql.connector as connector\n",
    "\n",
    "\n",
    "connection = connector.connect(\n",
    "    user='root',\n",
    "    password='root',\n",
    "    db='LittleLemonDB'\n",
    ")\n",
    "\n",
    "cursor = connection.cursor('SHOW TABLES;')\n",
    "\n",
    "results = cursor.fetchall()\n",
    "\n",
    "print(results)\n"
   ]
  },
  {
   "cell_type": "code",
   "execution_count": null,
   "metadata": {},
   "outputs": [],
   "source": [
    "operation = 'SELECT CONCAT(first_name, last_name) AS FullName, email, total_cost FROM user JOIN orders ON user.id = orders.user_id WHERE total_cost > 60;'\n",
    "\n",
    "cursor.execute(operation)\n",
    "\n",
    "results = cursor.fetchall()\n",
    "\n",
    "print(results)\n"
   ]
  }
 ],
 "metadata": {
  "language_info": {
   "name": "python"
  },
  "orig_nbformat": 4
 },
 "nbformat": 4,
 "nbformat_minor": 2
}
